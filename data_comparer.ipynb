{
  "cells": [
    {
      "cell_type": "markdown",
      "metadata": {
        "id": "view-in-github",
        "colab_type": "text"
      },
      "source": [
        "<a href=\"https://colab.research.google.com/github/pizzapuppies/Youssif_FYP_Code/blob/main/data_comparer.ipynb\" target=\"_parent\"><img src=\"https://colab.research.google.com/assets/colab-badge.svg\" alt=\"Open In Colab\"/></a>"
      ]
    },
    {
      "cell_type": "code",
      "execution_count": null,
      "metadata": {
        "colab": {
          "base_uri": "https://localhost:8080/"
        },
        "id": "LV_wZOmRjKuh",
        "outputId": "2525695d-3073-4749-c132-99da87f13ead"
      },
      "outputs": [
        {
          "output_type": "stream",
          "name": "stdout",
          "text": [
            "Mounted at /content/gdrive\n"
          ]
        }
      ],
      "source": [
        "import csv\n",
        "import math\n",
        "import os\n",
        "import numpy as np\n",
        "from google.colab import drive\n",
        "import sys\n",
        "drive.mount('/content/gdrive')\n",
        "sys.setrecursionlimit(300000)"
      ]
    },
    {
      "cell_type": "markdown",
      "source": [
        "#data extraction"
      ],
      "metadata": {
        "id": "IcjjFeflOgIM"
      }
    },
    {
      "cell_type": "code",
      "execution_count": null,
      "metadata": {
        "id": "_Pm3QPuKjQ6I",
        "colab": {
          "base_uri": "https://localhost:8080/"
        },
        "outputId": "169cb20a-45d7-4678-acfb-3a805db83c3b"
      },
      "outputs": [
        {
          "output_type": "stream",
          "name": "stdout",
          "text": [
            "The data is in the form:  (50, 2)\n"
          ]
        }
      ],
      "source": [
        "#@title extract and label real data \n",
        "real_data = {}\n",
        "with open(\"/content/gdrive/My Drive/data.csv\",\"r\") as rfile:\n",
        "  reader  = csv.reader(rfile)\n",
        "  for row in reader:\n",
        "   label = row[0] if \"n\" not in row[0] else \"n\"\n",
        "   if label not in real_data.keys():\n",
        "    real_data[label] = []   \n",
        "   real,imag = list(map(float,row[1:51])),list(map(float,row[51:]))\n",
        "   temp  = []\n",
        "   for j in range(len(imag)):\n",
        "     temp.append([real[j],imag[j]])\n",
        "   real_data[label].append(temp)\n",
        "print(\"The data is in the form: \",np.array(real_data[\"p0.5\"][0]).shape)"
      ]
    },
    {
      "cell_type": "code",
      "execution_count": null,
      "metadata": {
        "colab": {
          "base_uri": "https://localhost:8080/"
        },
        "id": "a40-tSMCjn46",
        "outputId": "617eac44-69f0-4c4a-9e23-b353a2cf01e8"
      },
      "outputs": [
        {
          "output_type": "stream",
          "name": "stdout",
          "text": [
            "The data is in the form:  (50, 2)\n"
          ]
        }
      ],
      "source": [
        "#@title extract and label GAN data \n",
        "s_data_path = \"/content/gdrive/My Drive/gan_data\"\n",
        "SD = os.listdir(s_data_path) # Synthetic Data\n",
        "\n",
        "g_data = {}\n",
        "temp = []\n",
        "for fi in SD:\n",
        "  cl = fi.split(\"_\")[1]\n",
        "  g_data[cl] = []\n",
        "  with open(s_data_path+\"/\"+fi,\"r\") as rfile:\n",
        "    \n",
        "    reader = csv.reader(rfile)\n",
        "    for row in reader:\n",
        "      real,imag = list(map(float,row[1:51])),list(map(float,row[51:]))\n",
        "      temp  = []\n",
        "      for j in range(len(imag)):\n",
        "        temp.append([real[j],imag[j]])\n",
        "      g_data[cl].append(temp)        \n",
        "\n",
        "print(\"The data is in the form: \",np.array(g_data[\"p0.5\"][0]).shape)"
      ]
    },
    {
      "cell_type": "code",
      "source": [
        "#@title extract and label VAE data \n",
        "v_data = {}\n",
        "with open(\"/content/gdrive/My Drive/labeled_vae_data.csv\",'r') as rfile:\n",
        "  reader = csv.reader(rfile)\n",
        "  for row in reader:\n",
        "   label = row[0] if \"n\" not in row[0] else \"n\"\n",
        "   if label not in v_data.keys():\n",
        "    v_data[label] = []\n",
        "   \n",
        "   real,imag = list(map(float,row[1:51])),list(map(float,row[51:]))\n",
        "   temp  = []\n",
        "   for j in range(len(imag)):\n",
        "     temp.append([real[j],imag[j]])\n",
        "   v_data[label].append(temp)\n",
        "print(\"The available keys are: \", list(v_data.keys()))\n",
        "print(\"The data is in the form: \",np.array(g_data[\"p32\"][0]).shape)"
      ],
      "metadata": {
        "colab": {
          "base_uri": "https://localhost:8080/"
        },
        "id": "GwaFE3Q3NTLM",
        "outputId": "e15d9d7e-0e3c-4558-b883-f6a6354bf81f"
      },
      "execution_count": null,
      "outputs": [
        {
          "output_type": "stream",
          "name": "stdout",
          "text": [
            "The available keys are:  ['p32', 'p16', 'p2', 'p8', 'p1']\n",
            "The data is in the form:  (50, 2)\n"
          ]
        }
      ]
    },
    {
      "cell_type": "markdown",
      "source": [
        "#Distance caluclation function"
      ],
      "metadata": {
        "id": "52ZzsAK9Oj0c"
      }
    },
    {
      "cell_type": "code",
      "execution_count": null,
      "metadata": {
        "colab": {
          "base_uri": "https://localhost:8080/"
        },
        "id": "no4BONarkP2_",
        "outputId": "b9fe2deb-a797-4d31-9093-cc25eccbceec"
      },
      "outputs": [
        {
          "output_type": "execute_result",
          "data": {
            "text/plain": [
              "3579"
            ]
          },
          "metadata": {},
          "execution_count": 5
        }
      ],
      "source": [
        "#@title L2 distance calculator\n",
        "\n",
        "def cal_distance(g1,g2):  \n",
        "  dist = 0\n",
        "  for i in range(len(g1)):\n",
        "    dist += ((g1[i][0]-g2[i][0])**2 + (g1[i][1]-g2[i][1])**2)**0.5\n",
        "  return int(dist)\n",
        "\n",
        "# testing the function\n",
        "cal_distance(real_data['p0.5'][0],real_data['p0.5'][1])"
      ]
    },
    {
      "cell_type": "markdown",
      "source": [
        "#Calculating and ploting the distance"
      ],
      "metadata": {
        "id": "TkwfyxqaOn0s"
      }
    },
    {
      "cell_type": "code",
      "source": [
        "#@title the distance of the real data \n",
        "\n",
        "real_dist = {}\n",
        "for i in real_data.keys():\n",
        "  real_dist[i] = []\n",
        "\n",
        "for key in real_data.keys():\n",
        "  for cur in real_data[key]:\n",
        "    temp = 0\n",
        "    for real in real_data[key]:\n",
        "      temp += cal_distance(cur,real)\n",
        "\n",
        "    real_dist[key].append(temp+temp//len(real_data[key]))\n",
        "    \n"
      ],
      "metadata": {
        "id": "ePBtSqO5OMrd"
      },
      "execution_count": null,
      "outputs": []
    },
    {
      "cell_type": "code",
      "source": [
        "#@title the distance of the GAN data \n",
        "gan_rec = {}\n",
        "gan_dist = {}\n",
        "for i in g_data.keys():\n",
        "  gan_dist[i] = []\n",
        "  gan_rec[i] = []\n",
        "\n",
        "for key in g_data.keys():\n",
        "  for cur in g_data[key]:\n",
        "    for real in real_data[key]:\n",
        "      temp += cal_distance(cur,real)\n",
        "    gan_rec[key].append([temp,cur]) \n",
        "    gan_dist[key].append(temp)\n",
        "\n"
      ],
      "metadata": {
        "id": "Gg5SKg2VN3-m"
      },
      "execution_count": null,
      "outputs": []
    },
    {
      "cell_type": "code",
      "source": [
        "#@title plot of the GAN data distance when compared to real data\n",
        "real = {}\n",
        "gan = {}\n",
        "for key in gan_dist.keys():\n",
        "\n",
        "  real[key] = sum(real_dist[key]) // len(real_dist[key])\n",
        "  gan[key] = sum(gan_dist[key])//len(gan_dist[key])\n",
        "\n",
        "\n",
        "\n",
        "import matplotlib.pyplot as plt\n",
        "\n",
        "x_axis = np.arange(len(gan.keys()))\n",
        "\n",
        "# Multi bar Chart\n",
        "\n",
        "plt.bar(x_axis -0.2, real.values(), width=0.4, label = 'REAL')\n",
        "plt.bar(x_axis +0.2, gan.values(), width=0.4, label = 'GAN')\n",
        "\n",
        "# Xticks\n",
        "\n",
        "plt.xticks(x_axis, list(gan.keys()))\n",
        "\n",
        "# Add legend\n",
        "\n",
        "plt.legend()\n",
        "plt.title(\"average distance from the GAn vs real data per class\")\n",
        "plt.show()\n",
        "\n",
        "\n",
        "\n",
        "\n",
        "\n",
        "\n"
      ],
      "metadata": {
        "colab": {
          "base_uri": "https://localhost:8080/",
          "height": 292
        },
        "cellView": "form",
        "id": "Wt6BX3_dcXSI",
        "outputId": "b88652a3-f0df-4d64-a879-2ecaa3d2b0f1"
      },
      "execution_count": null,
      "outputs": [
        {
          "output_type": "display_data",
          "data": {
            "text/plain": [
              "<Figure size 432x288 with 1 Axes>"
            ],
            "image/png": "[encoded data removed]"
          },
          "metadata": {
            "needs_background": "light"
          }
        }
      ]
    },
    {
      "cell_type": "markdown",
      "source": [
        "real data disatnce is about 10,000 smaller to the point that it does not register"
      ],
      "metadata": {
        "id": "KMQB2J3HeAVD"
      }
    },
    {
      "cell_type": "code",
      "source": [
        "#@title the distance of the VAE data \n",
        "vae_rec = {}\n",
        "vae_dist = {}\n",
        "for i in v_data.keys():\n",
        "  vae_dist[i] = []\n",
        "  vae_rec[i] = []\n",
        "\n",
        "for key in v_data.keys():\n",
        "  for cur in v_data[key]:\n",
        "    for real in real_data[key]:\n",
        "      temp += cal_distance(cur,real)\n",
        "    vae_rec[key].append([temp,cur]) \n",
        "    vae_dist[key].append(temp)\n",
        "\n"
      ],
      "metadata": {
        "id": "JFOfwhKGEs7i"
      },
      "execution_count": null,
      "outputs": []
    },
    {
      "cell_type": "code",
      "execution_count": null,
      "metadata": {
        "id": "9Tlr2348lqa0",
        "colab": {
          "base_uri": "https://localhost:8080/",
          "height": 281
        },
        "outputId": "3b9e99cd-f5f6-4881-a257-bd6b6c297f17"
      },
      "outputs": [
        {
          "output_type": "display_data",
          "data": {
            "text/plain": [
              "<Figure size 432x288 with 1 Axes>"
            ],
            "image/png": "[encoded data removed]"
          },
          "metadata": {
            "needs_background": "light"
          }
        }
      ],
      "source": [
        "#@title plot of the VAE data distance when compared to real data\n",
        "real = {}\n",
        "vae = {}\n",
        "for key in vae_dist.keys():\n",
        "\n",
        "  real[key] = sum(real_dist[key]) // len(real_dist[key])\n",
        "  vae[key] = sum(vae_dist[key])//len(vae_dist[key])\n",
        "\n",
        "\n",
        "\n",
        "import matplotlib.pyplot as plt\n",
        "\n",
        "x_axis = np.arange(len(vae.keys()))\n",
        "\n",
        "# Multi bar Chart\n",
        "\n",
        "plt.bar(x_axis -0.2, real.values(), width=0.4, label = 'REAL')\n",
        "plt.bar(x_axis +0.2, vae.values(), width=0.4, label = 'VAE')\n",
        "\n",
        "\n",
        "\n",
        "plt.xticks(x_axis, list(vae.keys()))\n",
        "\n",
        "# Add legend\n",
        "\n",
        "plt.legend()\n",
        "plt.title(\"average distance VAE vs real data per class\")\n",
        "plt.show()\n"
      ]
    },
    {
      "cell_type": "markdown",
      "source": [
        "#Sorting and keeping the best 100 examples of each class"
      ],
      "metadata": {
        "id": "wuBmFK7Le_c-"
      }
    },
    {
      "cell_type": "code",
      "source": [
        "#@title quick sort function to sort the lists (sort_rec)\n",
        "def sort_rec(rec): # record is a list with [ [rank,data-points(shape: 50,2)] ,...]\n",
        "  if rec == []: \n",
        "          return []\n",
        "  else:\n",
        "      pivot = rec[0]\n",
        "      lesser = sort_rec([x for x in rec[1:] if x[0] < pivot[0]])\n",
        "      greater = sort_rec([x for x in rec[1:] if x[0] >= pivot[0]])\n",
        "      return lesser + [pivot] + greater\n",
        "\n"
      ],
      "metadata": {
        "id": "5MU9qb15fHG6"
      },
      "execution_count": null,
      "outputs": []
    },
    {
      "cell_type": "code",
      "source": [
        "#@title sorting the gan and vae data\n",
        "\n",
        "\n",
        "for key in gan_rec.keys():\n",
        "  x = sort_rec(gan_rec[key])\n",
        "  if len(x) > 100: gan_rec[key] = x[:100]\n",
        "  else: gan_rec[key] = x\n",
        "\n",
        "for key in vae_rec.keys():\n",
        "  x = sort_rec(vae_rec[key])\n",
        "  if len(x) > 100: vae_rec[key] = x[:100]\n",
        "  else: vae_rec[key] = x"
      ],
      "metadata": {
        "id": "Co8cn6JdFneP"
      },
      "execution_count": null,
      "outputs": []
    },
    {
      "cell_type": "code",
      "source": [
        "#@title writing top 100 GAN & VAE to a file \n",
        "\n",
        "with open(\"/content/gdrive/My Drive/vae100_data.csv\",'w') as wfile:\n",
        "  writer = csv.writer(wfile)\n",
        "  for key in vae_rec.keys():\n",
        "    for row in vae_rec[key]:\n",
        "      real = []\n",
        "      imag = []\n",
        "      for i in row[1]:\n",
        "        real.append(i[0])\n",
        "        imag.append(i[1])\n",
        "      writer.writerow([key] +real+imag )\n",
        "\n",
        "with open(\"/content/gdrive/My Drive/gan100_data.csv\",'w') as wfile:\n",
        "  writer = csv.writer(wfile)\n",
        "  for key in gan_rec.keys():\n",
        "    for row in gan_rec[key]:\n",
        "      real = []\n",
        "      imag = []\n",
        "      for i in row[1]:\n",
        "        real.append(i[0])\n",
        "        imag.append(i[1])\n",
        "      writer.writerow([key] +real+imag )"
      ],
      "metadata": {
        "id": "pdZMXk4QWySQ"
      },
      "execution_count": null,
      "outputs": []
    },
    {
      "cell_type": "code",
      "source": [
        "#@title the new plot of the top 100 VAE when compared to real data \n",
        "\n",
        "vae_dist = {}\n",
        "for i in vae_rec.keys():\n",
        "  vae_dist[i] = []\n",
        "  \n",
        "\n",
        "for key in vae_rec.keys():\n",
        "  for cur in vae_rec[key]:\n",
        "    temp = 0\n",
        "    for real in real_data[key]:\n",
        "      temp += cal_distance(cur[1],real)\n",
        "    vae_dist[key].append(temp)\n",
        "real = {}\n",
        "vae = {}\n",
        "for key in vae_dist.keys():\n",
        "\n",
        "  real[key] = sum(real_dist[key]) // len(real_dist[key])\n",
        "  vae[key] = sum(vae_dist[key])//len(vae_dist[key])\n",
        "\n",
        "\n",
        "\n",
        "import matplotlib.pyplot as plt\n",
        "\n",
        "x_axis = np.arange(len(vae.keys()))\n",
        "\n",
        "# Multi bar Chart\n",
        "\n",
        "plt.bar(x_axis -0.2, real.values(), width=0.4, label = 'REAL')\n",
        "plt.bar(x_axis +0.2, vae.values(), width=0.4, label = 'VAE')\n",
        "\n",
        "\n",
        "\n",
        "plt.xticks(x_axis, list(vae.keys()))\n",
        "\n",
        "# Add legend\n",
        "\n",
        "plt.legend()\n",
        "plt.title(\"aver. dist.  real data vs VAE 100 per class\")\n",
        "plt.show()\n"
      ],
      "metadata": {
        "colab": {
          "base_uri": "https://localhost:8080/",
          "height": 281
        },
        "id": "NTUJtxyLIDY9",
        "outputId": "f76791dd-b9be-4c4e-fa20-bd08264a8e94"
      },
      "execution_count": null,
      "outputs": [
        {
          "output_type": "display_data",
          "data": {
            "text/plain": [
              "<Figure size 432x288 with 1 Axes>"
            ],
            "image/png": "[encoded data removed]"
          },
          "metadata": {
            "needs_background": "light"
          }
        }
      ]
    },
    {
      "cell_type": "code",
      "execution_count": null,
      "metadata": {
        "colab": {
          "base_uri": "https://localhost:8080/",
          "height": 281
        },
        "id": "Cd3cgmOgpG9u",
        "outputId": "884d7023-8378-4ed6-9165-383cfef4f385",
        "cellView": "form"
      },
      "outputs": [
        {
          "output_type": "display_data",
          "data": {
            "text/plain": [
              "<Figure size 432x288 with 1 Axes>"
            ],
            "image/png": "[encoded data removed]"
          },
          "metadata": {
            "needs_background": "light"
          }
        }
      ],
      "source": [
        "#@title the new plot of the top 100 GAN when compared to real data \n",
        "\n",
        "gan_dist = {}\n",
        "for i in gan_rec.keys():\n",
        "  gan_dist[i] = []\n",
        "  \n",
        "\n",
        "for key in gan_rec.keys():\n",
        "  for cur in gan_rec[key]:\n",
        "    temp = 0\n",
        "    for real in real_data[key]:\n",
        "      temp += cal_distance(cur[1],real)\n",
        "    gan_dist[key].append(temp)\n",
        "real = {}\n",
        "vae = {}\n",
        "for key in gan_dist.keys():\n",
        "\n",
        "  real[key] = sum(real_dist[key]) // len(real_dist[key])\n",
        "  vae[key] = sum(gan_dist[key])//len(gan_dist[key])\n",
        "\n",
        "\n",
        "\n",
        "import matplotlib.pyplot as plt\n",
        "\n",
        "x_axis = np.arange(len(gan.keys()))\n",
        "\n",
        "# Multi bar Chart\n",
        "\n",
        "plt.bar(x_axis -0.2, real.values(), width=0.4, label = 'REAL')\n",
        "plt.bar(x_axis +0.2, gan.values(), width=0.4, label = 'GAN')\n",
        "\n",
        "\n",
        "\n",
        "plt.xticks(x_axis, list(gan.keys()))\n",
        "\n",
        "# Add legend\n",
        "\n",
        "plt.legend()\n",
        "plt.title(\"aver. dist.  real data vs GAN 100 per class\")\n",
        "plt.show()"
      ]
    }
  ],
  "metadata": {
    "colab": {
      "provenance": [],
      "authorship_tag": "ABX9TyOwRXf4tq2jB97syVEDNVgZ",
      "include_colab_link": true
    },
    "kernelspec": {
      "display_name": "Python 3",
      "name": "python3"
    },
    "language_info": {
      "name": "python"
    }
  },
  "nbformat": 4,
  "nbformat_minor": 0
}